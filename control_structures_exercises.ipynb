{
 "cells": [
  {
   "cell_type": "code",
   "execution_count": null,
   "id": "74242ec7",
   "metadata": {},
   "outputs": [],
   "source": []
  },
  {
   "cell_type": "code",
   "execution_count": null,
   "id": "94122e04",
   "metadata": {},
   "outputs": [],
   "source": [
    "# 1.\n",
    "# Conditional Basics\n",
    "# Prompt the user for a day of the week, print out whether the day \n",
    "# is Monday or not\n",
    "# Prompt the user for a day of the week, print out whether the day \n",
    "# is a weekday or a weekend\n",
    "# Calculate a weekly paycheck, accounting for overtime pay. \n",
    "# Create variables and make up values for:\n",
    "# The number of hours worked in one week\n",
    "# The hourly rate\n",
    "# For calculating pay:\n",
    "# For working 40 hours or less, each hour is paid at the hourly rate\n",
    "# For working more than 40 hours\n",
    "# the first 40 hours are paid at the hourly rate\n",
    "# each hour after 40 is paid at time and a half (hourly rate * 1.5)"
   ]
  },
  {
   "cell_type": "code",
   "execution_count": 39,
   "id": "c99ea78e",
   "metadata": {},
   "outputs": [
    {
     "name": "stdout",
     "output_type": "stream",
     "text": [
      "Type in what day of the week: Tuesday\n",
      "You inputed  Tuesday which is not a Monday\n"
     ]
    }
   ],
   "source": [
    "day_of_week = (input(\"Type in what day of the week: \"))\n",
    "if day_of_week == 'Monday': \n",
    "        print('You inputed ', day_of_week)\n",
    "else: \n",
    "        print('You inputed ', day_of_week, 'which is not a Monday')"
   ]
  },
  {
   "cell_type": "code",
   "execution_count": 16,
   "id": "34d47717",
   "metadata": {
    "scrolled": true
   },
   "outputs": [
    {
     "name": "stdout",
     "output_type": "stream",
     "text": [
      "Type in what day of the week: Sunday\n",
      "You inputed  Sunday which is a weekend\n"
     ]
    }
   ],
   "source": [
    "day_of_week = (input(\"Type in what day of the week: \"))\n",
    "if day_of_week == 'Monday''Tuesday''Wednesday''Thursday''Friday': \n",
    "        print('You inputed ', day_of_week , 'which is a weekday')\n",
    "else: \n",
    "        print('You inputed ', day_of_week, 'which is a weekend')"
   ]
  },
  {
   "cell_type": "code",
   "execution_count": null,
   "id": "1a0c24e5",
   "metadata": {},
   "outputs": [],
   "source": []
  },
  {
   "cell_type": "code",
   "execution_count": null,
   "id": "206df100",
   "metadata": {},
   "outputs": [],
   "source": []
  },
  {
   "cell_type": "code",
   "execution_count": 38,
   "id": "f6cacd44",
   "metadata": {},
   "outputs": [
    {
     "name": "stdout",
     "output_type": "stream",
     "text": [
      "Type in your hourly rate: 10\n",
      "Type in how many hours worked in one week: 39\n",
      "Your weekly pay amount is:  390.0\n"
     ]
    }
   ],
   "source": [
    "hourly_rate = float(input('Type in your hourly rate: '))\n",
    "work_hours_weekly = float(input('Type in how many hours worked in one week: '))\n",
    "over_fortaay_hours = work_hours_weekly - 40\n",
    "# weekly_paycheck = hourly_rate * works_hours_weekly\n",
    "\n",
    "if work_hours_weekly <= 40:\n",
    "        week_paycheck = hourly_rate * work_hours_weekly\n",
    "        print('Your weekly pay amount is: ', week_paycheck)\n",
    "elif work_hours_weekly >= 41:\n",
    "        new_week_paycheck = ((work_hours_weekly - over_forty_hours) * hourly_rate) + ((hourly_rate * 1.5) * over_forty_hours)\n",
    "        print('Your weekly pay mount with overtime is: ', new_week_paycheck)\n"
   ]
  },
  {
   "cell_type": "code",
   "execution_count": null,
   "id": "0f0c125b",
   "metadata": {},
   "outputs": [],
   "source": [
    "# 2. Loop Basics\n",
    "# While\n",
    "# Create an integer variable i with a value of 5. \n",
    "# Create a while loop that runs so long as i is less than or equal to 15.\n",
    "# Each loop iteration, output the current value of i, then increment i by\n",
    "# one."
   ]
  },
  {
   "cell_type": "code",
   "execution_count": 42,
   "id": "62e35812",
   "metadata": {},
   "outputs": [
    {
     "name": "stdout",
     "output_type": "stream",
     "text": [
      "5\n",
      "6\n",
      "7\n",
      "8\n",
      "9\n",
      "10\n",
      "11\n",
      "12\n",
      "13\n",
      "14\n",
      "15\n"
     ]
    }
   ],
   "source": [
    "i = 5\n",
    "while i < 16:\n",
    "        print(i)\n",
    "        i += 1"
   ]
  },
  {
   "cell_type": "code",
   "execution_count": null,
   "id": "c6e3fb50",
   "metadata": {},
   "outputs": [],
   "source": []
  },
  {
   "cell_type": "code",
   "execution_count": null,
   "id": "19ad4737",
   "metadata": {},
   "outputs": [],
   "source": [
    "Create a while loop that will count by 2's starting with 0 and \n",
    "ending at 100. Follow each number with a new line."
   ]
  },
  {
   "cell_type": "code",
   "execution_count": 44,
   "id": "d04417c5",
   "metadata": {},
   "outputs": [
    {
     "name": "stdout",
     "output_type": "stream",
     "text": [
      "0\n",
      "2\n",
      "4\n",
      "6\n",
      "8\n",
      "10\n",
      "12\n",
      "14\n",
      "16\n",
      "18\n",
      "20\n",
      "22\n",
      "24\n",
      "26\n",
      "28\n",
      "30\n",
      "32\n",
      "34\n",
      "36\n",
      "38\n",
      "40\n",
      "42\n",
      "44\n",
      "46\n",
      "48\n",
      "50\n",
      "52\n",
      "54\n",
      "56\n",
      "58\n",
      "60\n",
      "62\n",
      "64\n",
      "66\n",
      "68\n",
      "70\n",
      "72\n",
      "74\n",
      "76\n",
      "78\n",
      "80\n",
      "82\n",
      "84\n",
      "86\n",
      "88\n",
      "90\n",
      "92\n",
      "94\n",
      "96\n",
      "98\n",
      "100\n"
     ]
    }
   ],
   "source": [
    "i = 0\n",
    "while i <= 100:\n",
    "    print(i)\n",
    "    i += 2"
   ]
  },
  {
   "cell_type": "code",
   "execution_count": null,
   "id": "0b9cac21",
   "metadata": {},
   "outputs": [],
   "source": [
    "Create a while loop that starts at 2, and displays the number \n",
    "squared on each line while the number is less than 1,000,000. "
   ]
  },
  {
   "cell_type": "code",
   "execution_count": 1,
   "id": "dd7a6786",
   "metadata": {},
   "outputs": [
    {
     "name": "stdout",
     "output_type": "stream",
     "text": [
      "2\n",
      "4\n",
      "16\n",
      "256\n",
      "65536\n"
     ]
    }
   ],
   "source": [
    "i = 2\n",
    "while i < 1000000:\n",
    "        print(i)\n",
    "        i **= 2\n",
    "        "
   ]
  },
  {
   "cell_type": "code",
   "execution_count": null,
   "id": "89f1ca30",
   "metadata": {},
   "outputs": [],
   "source": []
  },
  {
   "cell_type": "code",
   "execution_count": null,
   "id": "4c5ff487",
   "metadata": {},
   "outputs": [],
   "source": []
  },
  {
   "cell_type": "code",
   "execution_count": null,
   "id": "975ff014",
   "metadata": {},
   "outputs": [],
   "source": []
  },
  {
   "cell_type": "code",
   "execution_count": null,
   "id": "9e0b196c",
   "metadata": {},
   "outputs": [],
   "source": []
  },
  {
   "cell_type": "code",
   "execution_count": null,
   "id": "24465fa2",
   "metadata": {},
   "outputs": [],
   "source": []
  },
  {
   "cell_type": "code",
   "execution_count": null,
   "id": "9dd245ef",
   "metadata": {},
   "outputs": [],
   "source": []
  }
 ],
 "metadata": {
  "kernelspec": {
   "display_name": "Python 3 (ipykernel)",
   "language": "python",
   "name": "python3"
  },
  "language_info": {
   "codemirror_mode": {
    "name": "ipython",
    "version": 3
   },
   "file_extension": ".py",
   "mimetype": "text/x-python",
   "name": "python",
   "nbconvert_exporter": "python",
   "pygments_lexer": "ipython3",
   "version": "3.11.5"
  }
 },
 "nbformat": 4,
 "nbformat_minor": 5
}
