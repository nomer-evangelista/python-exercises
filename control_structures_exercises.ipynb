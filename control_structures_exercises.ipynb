{
 "cells": [
  {
   "cell_type": "code",
   "execution_count": null,
   "id": "74242ec7",
   "metadata": {},
   "outputs": [],
   "source": []
  },
  {
   "cell_type": "code",
   "execution_count": null,
   "id": "94122e04",
   "metadata": {},
   "outputs": [],
   "source": [
    "# 1.\n",
    "# Conditional Basics\n",
    "# Prompt the user for a day of the week, print out whether the day \n",
    "# is Monday or not\n",
    "# Prompt the user for a day of the week, print out whether the day \n",
    "# is a weekday or a weekend\n",
    "# Calculate a weekly paycheck, accounting for overtime pay. \n",
    "# Create variables and make up values for:\n",
    "# The number of hours worked in one week\n",
    "# The hourly rate\n",
    "# For calculating pay:\n",
    "# For working 40 hours or less, each hour is paid at the hourly rate\n",
    "# For working more than 40 hours\n",
    "# the first 40 hours are paid at the hourly rate\n",
    "# each hour after 40 is paid at time and a half (hourly rate * 1.5)"
   ]
  },
  {
   "cell_type": "code",
   "execution_count": 39,
   "id": "c99ea78e",
   "metadata": {},
   "outputs": [
    {
     "name": "stdout",
     "output_type": "stream",
     "text": [
      "Type in what day of the week: Tuesday\n",
      "You inputed  Tuesday which is not a Monday\n"
     ]
    }
   ],
   "source": [
    "day_of_week = input(\"Type in what day of the week: \")\n",
    "if day_of_week == 'Monday': \n",
    "        print('You inputed ', day_of_week)\n",
    "else: \n",
    "        print('You inputed ', day_of_week, 'which is not a Monday')"
   ]
  },
  {
   "cell_type": "code",
   "execution_count": 6,
   "id": "34d47717",
   "metadata": {
    "scrolled": true
   },
   "outputs": [
    {
     "name": "stdout",
     "output_type": "stream",
     "text": [
      "Type in what day of the week: saturday\n",
      "You inputed  saturday which is a weekend\n"
     ]
    }
   ],
   "source": [
    "day_of_week = input(\"Type in what day of the week: \")\n",
    "if day_of_week == 'Monday''Tuesday''Wednesday''Thursday''Friday': \n",
    "        print('You inputed ', day_of_week , 'which is a weekday')\n",
    "else: \n",
    "        print('You inputed ', day_of_week, 'which is a weekend')"
   ]
  },
  {
   "cell_type": "code",
   "execution_count": null,
   "id": "1a0c24e5",
   "metadata": {},
   "outputs": [],
   "source": []
  },
  {
   "cell_type": "code",
   "execution_count": null,
   "id": "206df100",
   "metadata": {},
   "outputs": [],
   "source": []
  },
  {
   "cell_type": "code",
   "execution_count": 38,
   "id": "f6cacd44",
   "metadata": {},
   "outputs": [
    {
     "name": "stdout",
     "output_type": "stream",
     "text": [
      "Type in your hourly rate: 10\n",
      "Type in how many hours worked in one week: 39\n",
      "Your weekly pay amount is:  390.0\n"
     ]
    }
   ],
   "source": [
    "hourly_rate = float(input('Type in your hourly rate: '))\n",
    "work_hours_weekly = float(input('Type in how many hours worked in one week: '))\n",
    "over_fortaay_hours = work_hours_weekly - 40\n",
    "# weekly_paycheck = hourly_rate * works_hours_weekly\n",
    "\n",
    "if work_hours_weekly <= 40:\n",
    "        week_paycheck = hourly_rate * work_hours_weekly\n",
    "        print('Your weekly pay amount is: ', week_paycheck)\n",
    "elif work_hours_weekly >= 41:\n",
    "        new_week_paycheck = ((work_hours_weekly - over_forty_hours) * hourly_rate) + ((hourly_rate * 1.5) * over_forty_hours)\n",
    "        print('Your weekly pay mount with overtime is: ', new_week_paycheck)\n"
   ]
  },
  {
   "cell_type": "code",
   "execution_count": null,
   "id": "0f0c125b",
   "metadata": {},
   "outputs": [],
   "source": [
    "# 2. Loop Basics\n",
    "# a. While\n",
    "# i. Create an integer variable i with a value of 5. \n",
    "# Create a while loop that runs so long as i is less than or equal to 15.\n",
    "# Each loop iteration, output the current value of i, then increment i by\n",
    "# one."
   ]
  },
  {
   "cell_type": "code",
   "execution_count": 1,
   "id": "62e35812",
   "metadata": {},
   "outputs": [
    {
     "name": "stdout",
     "output_type": "stream",
     "text": [
      "5\n",
      "6\n",
      "7\n",
      "8\n",
      "9\n",
      "10\n",
      "11\n",
      "12\n",
      "13\n",
      "14\n",
      "15\n"
     ]
    }
   ],
   "source": [
    "i = 5\n",
    "while i <= 15:\n",
    "        print(i)\n",
    "        i += 1"
   ]
  },
  {
   "cell_type": "code",
   "execution_count": null,
   "id": "c6e3fb50",
   "metadata": {},
   "outputs": [],
   "source": []
  },
  {
   "cell_type": "code",
   "execution_count": null,
   "id": "19ad4737",
   "metadata": {},
   "outputs": [],
   "source": [
    "i. Create a while loop that will count by 2's starting with 0 and \n",
    "ending at 100. Follow each number with a new line."
   ]
  },
  {
   "cell_type": "code",
   "execution_count": 44,
   "id": "d04417c5",
   "metadata": {},
   "outputs": [
    {
     "name": "stdout",
     "output_type": "stream",
     "text": [
      "0\n",
      "2\n",
      "4\n",
      "6\n",
      "8\n",
      "10\n",
      "12\n",
      "14\n",
      "16\n",
      "18\n",
      "20\n",
      "22\n",
      "24\n",
      "26\n",
      "28\n",
      "30\n",
      "32\n",
      "34\n",
      "36\n",
      "38\n",
      "40\n",
      "42\n",
      "44\n",
      "46\n",
      "48\n",
      "50\n",
      "52\n",
      "54\n",
      "56\n",
      "58\n",
      "60\n",
      "62\n",
      "64\n",
      "66\n",
      "68\n",
      "70\n",
      "72\n",
      "74\n",
      "76\n",
      "78\n",
      "80\n",
      "82\n",
      "84\n",
      "86\n",
      "88\n",
      "90\n",
      "92\n",
      "94\n",
      "96\n",
      "98\n",
      "100\n"
     ]
    }
   ],
   "source": [
    "i = 0\n",
    "while i <= 100:\n",
    "    print(i)\n",
    "    i += 2"
   ]
  },
  {
   "cell_type": "code",
   "execution_count": null,
   "id": "0b9cac21",
   "metadata": {},
   "outputs": [],
   "source": [
    "ii. Create a while loop that starts at 2, and displays the number \n",
    "squared on each line while the number is less than 1,000,000. "
   ]
  },
  {
   "cell_type": "code",
   "execution_count": 1,
   "id": "dd7a6786",
   "metadata": {},
   "outputs": [
    {
     "name": "stdout",
     "output_type": "stream",
     "text": [
      "2\n",
      "4\n",
      "16\n",
      "256\n",
      "65536\n"
     ]
    }
   ],
   "source": [
    "i = 2\n",
    "while i < 1000000:  # can use _ underscore instead of comma\n",
    "        print(i)\n",
    "        i **= 2  # can use i = i * i\n",
    "        "
   ]
  },
  {
   "cell_type": "code",
   "execution_count": null,
   "id": "89f1ca30",
   "metadata": {},
   "outputs": [],
   "source": [
    "# iii. Write a while loop that uses print to create the output "
   ]
  },
  {
   "cell_type": "code",
   "execution_count": 15,
   "id": "4c5ff487",
   "metadata": {},
   "outputs": [
    {
     "name": "stdout",
     "output_type": "stream",
     "text": [
      "100\n",
      "95\n",
      "90\n",
      "85\n",
      "80\n",
      "75\n",
      "70\n",
      "65\n",
      "60\n",
      "55\n",
      "50\n",
      "45\n",
      "40\n",
      "35\n",
      "30\n",
      "25\n",
      "20\n",
      "15\n",
      "10\n",
      "5\n"
     ]
    }
   ],
   "source": [
    "i = 100\n",
    "while i >= 5:\n",
    "        print(i)\n",
    "        i -= 5\n",
    "    "
   ]
  },
  {
   "cell_type": "code",
   "execution_count": null,
   "id": "5724e1a7",
   "metadata": {},
   "outputs": [],
   "source": [
    "# B. For Loops\n",
    "\n",
    "# i. Write some code using a for loop that prompts the \n",
    "# user for a number, then shows a multiplication table up \n",
    "# through 10 for that number."
   ]
  },
  {
   "cell_type": "code",
   "execution_count": 58,
   "id": "4963c9d8",
   "metadata": {},
   "outputs": [
    {
     "name": "stdout",
     "output_type": "stream",
     "text": [
      "Input a number? 3\n",
      "3 * 1 = 3\n",
      "3 * 2 = 6\n",
      "3 * 3 = 9\n",
      "3 * 4 = 12\n",
      "3 * 5 = 15\n",
      "3 * 6 = 18\n",
      "3 * 7 = 21\n",
      "3 * 8 = 24\n",
      "3 * 9 = 27\n",
      "3 * 10 = 30\n",
      "3 * 11 = 33\n"
     ]
    }
   ],
   "source": [
    "user_input = int(input('Input a number? '))\n",
    "for i in range(0, 11):\n",
    "    i += 1\n",
    "    multiply = user_input * i\n",
    "    print(user_input, '*', i, '=', multiply) # print(f'{user_input}' X {i} = {multiply})"
   ]
  },
  {
   "cell_type": "code",
   "execution_count": null,
   "id": "0aba5ba3",
   "metadata": {},
   "outputs": [],
   "source": [
    "# ii. Create a for loop that uses print to create the output shown below."
   ]
  },
  {
   "cell_type": "code",
   "execution_count": 72,
   "id": "218d3df9",
   "metadata": {},
   "outputs": [
    {
     "name": "stdout",
     "output_type": "stream",
     "text": [
      "\n",
      "1\n",
      "22\n",
      "333\n",
      "4444\n",
      "55555\n",
      "666666\n",
      "7777777\n",
      "88888888\n",
      "999999999\n"
     ]
    }
   ],
   "source": [
    "for i in range(0, 10):\n",
    "    number = str(i) * i # \n",
    "    print(number)\n",
    "    "
   ]
  },
  {
   "cell_type": "code",
   "execution_count": 73,
   "id": "a7624be1",
   "metadata": {},
   "outputs": [],
   "source": [
    "# C. break and continue\n",
    "# i. Write a program that prompts the user for a positive integer. \n",
    "# Next write a loop that prints out the numbers from the number the user\n",
    "# entered down to 1.\n"
   ]
  },
  {
   "cell_type": "code",
   "execution_count": 18,
   "id": "d4de4654",
   "metadata": {},
   "outputs": [
    {
     "name": "stdout",
     "output_type": "stream",
     "text": [
      "Type in an positive number: 10\n",
      "10\n",
      "9\n",
      "8\n",
      "7\n",
      "6\n",
      "5\n",
      "4\n",
      "3\n",
      "2\n",
      "1\n"
     ]
    }
   ],
   "source": [
    "number = int(input('Type in an positive number: '))\n",
    "for number in range(number, 0, -1):\n",
    "    print(number) #i -= 1\n",
    "\n",
    "# for i in range(0, user_input+1)\n",
    "# print(i)"
   ]
  },
  {
   "cell_type": "code",
   "execution_count": null,
   "id": "205f6fda",
   "metadata": {},
   "outputs": [],
   "source": [
    "# ii. The input function can be used to prompt for input and use that \n",
    "# input in your python code. Prompt the user to enter a positive \n",
    "# number and write a loop that counts from 0 to that number. \n",
    "# (Hints: note that the input function returns a string, so \n",
    "# you'll need to convert this to a numeric type.)"
   ]
  },
  {
   "cell_type": "code",
   "execution_count": 56,
   "id": "b9f0f688",
   "metadata": {},
   "outputs": [
    {
     "name": "stdout",
     "output_type": "stream",
     "text": [
      "Type in an positive number: 4\n",
      "0\n",
      "1\n",
      "2\n",
      "3\n",
      "4\n"
     ]
    }
   ],
   "source": [
    "number = int(input('Type in an positive number: '))\n",
    "for number in range(0, number + 1):  # for i in range(0, number + 1)\n",
    "    print(number)\n",
    "    # number += 1  "
   ]
  },
  {
   "cell_type": "code",
   "execution_count": null,
   "id": "7fcbd439",
   "metadata": {},
   "outputs": [],
   "source": [
    "# iii. Prompt the user for an odd number between 1 and 50. \n",
    "# Use a loop and a break statement to continue prompting the user \n",
    "# if they enter invalid input. (Hint: use the isdigit method on \n",
    "# strings to determine this). Use a loop and the continue statement \n",
    "# to output all the odd numbers between 1 and 50, except for \n",
    "# the number the user entered."
   ]
  },
  {
   "cell_type": "code",
   "execution_count": 71,
   "id": "8db50b46",
   "metadata": {},
   "outputs": [
    {
     "name": "stdout",
     "output_type": "stream",
     "text": [
      "Type in a odd number between 1 and 50: 5\n",
      "number to skip is: 5\n",
      "Here is the an odd numbers: 1\n",
      "Here is the an odd numbers: 3\n",
      "Yikes! Skipping number: 5\n",
      "Here is the an odd numbers: 7\n",
      "Here is the an odd numbers: 9\n",
      "Here is the an odd numbers: 11\n",
      "Here is the an odd numbers: 13\n",
      "Here is the an odd numbers: 15\n",
      "Here is the an odd numbers: 17\n",
      "Here is the an odd numbers: 19\n",
      "Here is the an odd numbers: 21\n",
      "Here is the an odd numbers: 23\n",
      "Here is the an odd numbers: 25\n",
      "Here is the an odd numbers: 27\n",
      "Here is the an odd numbers: 29\n",
      "Here is the an odd numbers: 31\n",
      "Here is the an odd numbers: 33\n",
      "Here is the an odd numbers: 35\n",
      "Here is the an odd numbers: 37\n",
      "Here is the an odd numbers: 39\n",
      "Here is the an odd numbers: 41\n",
      "Here is the an odd numbers: 43\n",
      "Here is the an odd numbers: 45\n",
      "Here is the an odd numbers: 47\n",
      "Here is the an odd numbers: 49\n"
     ]
    }
   ],
   "source": [
    "while True:\n",
    "    user_input = int(input('Type in a odd number between 1 and 50: '))\n",
    "    print(f'number to skip is: {user_input}')\n",
    "    if isinstance(user_input, int):     #isinstance()\n",
    "        if 1 <= user_input <= 50 and user_input % 2 == 1:\n",
    "            for i in range(1, 51, 2):\n",
    "                if i == user_input:\n",
    "                    print(f'Yikes! Skipping number: {user_input}')\n",
    "                    continue # continue = not printing the number\n",
    "                else: \n",
    "                    pass  # ignoring the call\n",
    "                    print(f'Here is the an odd numbers: {i}')\n",
    "            break\n",
    "        else:\n",
    "            print('You have entered an invalid number')\n",
    "    else:\n",
    "        print('You have entered an invalid number')\n",
    "        \n",
    "\n",
    "    "
   ]
  },
  {
   "cell_type": "code",
   "execution_count": null,
   "id": "9bf6c6a9",
   "metadata": {},
   "outputs": [],
   "source": [
    "# 3. Fizzbuzz\n",
    "\n",
    "# One of the most common interview questions for \n",
    "# entry-level programmers is the FizzBuzz test. \n",
    "# Developed by Imran Ghory, the test is designed to test \n",
    "# basic looping and conditional logic skills.\n",
    "\n",
    "# Write a program that prints the numbers from 1 to 100.\n",
    "# For multiples of three print \"Fizz\" instead of the number\n",
    "# For the multiples of five print \"Buzz\".\n",
    "# For numbers which are multiples of both three and five \n",
    "# print \"FizzBuzz\"."
   ]
  },
  {
   "cell_type": "code",
   "execution_count": 8,
   "id": "90a8e9ca",
   "metadata": {},
   "outputs": [
    {
     "name": "stdout",
     "output_type": "stream",
     "text": [
      "2\n",
      "Fizz\n",
      "4\n",
      "Buzz\n",
      "Fizz\n",
      "7\n",
      "8\n",
      "Fizz\n",
      "Buzz\n",
      "11\n",
      "Fizz\n",
      "13\n",
      "14\n",
      "FizzBuzz\n",
      "16\n",
      "17\n",
      "Fizz\n",
      "19\n",
      "Buzz\n",
      "Fizz\n",
      "22\n",
      "23\n",
      "Fizz\n",
      "Buzz\n",
      "26\n",
      "Fizz\n",
      "28\n",
      "29\n",
      "FizzBuzz\n",
      "31\n",
      "32\n",
      "Fizz\n",
      "34\n",
      "Buzz\n",
      "Fizz\n",
      "37\n",
      "38\n",
      "Fizz\n",
      "Buzz\n",
      "41\n",
      "Fizz\n",
      "43\n",
      "44\n",
      "FizzBuzz\n",
      "46\n",
      "47\n",
      "Fizz\n",
      "49\n",
      "Buzz\n",
      "Fizz\n",
      "52\n",
      "53\n",
      "Fizz\n",
      "Buzz\n",
      "56\n",
      "Fizz\n",
      "58\n",
      "59\n",
      "FizzBuzz\n",
      "61\n",
      "62\n",
      "Fizz\n",
      "64\n",
      "Buzz\n",
      "Fizz\n",
      "67\n",
      "68\n",
      "Fizz\n",
      "Buzz\n",
      "71\n",
      "Fizz\n",
      "73\n",
      "74\n",
      "FizzBuzz\n",
      "76\n",
      "77\n",
      "Fizz\n",
      "79\n",
      "Buzz\n",
      "Fizz\n",
      "82\n",
      "83\n",
      "Fizz\n",
      "Buzz\n",
      "86\n",
      "Fizz\n",
      "88\n",
      "89\n",
      "FizzBuzz\n",
      "91\n",
      "92\n",
      "Fizz\n",
      "94\n",
      "Buzz\n",
      "Fizz\n",
      "97\n",
      "98\n",
      "Fizz\n",
      "Buzz\n",
      "101\n"
     ]
    }
   ],
   "source": [
    "i = 1\n",
    "while i < 101:\n",
    "    i += 1\n",
    "    if i % 15 == 0:\n",
    "        print('FizzBuzz')\n",
    "    elif i % 3 == 0:\n",
    "        print('Fizz')\n",
    "    elif i % 5 == 0:\n",
    "        print('Buzz')\n",
    "    else:\n",
    "        print(i)\n",
    "    "
   ]
  },
  {
   "cell_type": "code",
   "execution_count": null,
   "id": "703a71b1",
   "metadata": {},
   "outputs": [],
   "source": [
    "# 4. Display a table of powers.\n",
    "\n",
    "# Prompt the user to enter an integer\n",
    "# Display a table of squares and cubes from 1 to the value entered\n",
    "# Ask if the user wants to continue\n",
    "# Assume that the user will enter valid data\n",
    "# Only continue if the user agrees to"
   ]
  },
  {
   "cell_type": "code",
   "execution_count": 85,
   "id": "bc98ebdc",
   "metadata": {},
   "outputs": [
    {
     "name": "stdout",
     "output_type": "stream",
     "text": [
      "What number would you like to go up to: 4\n",
      "number| squared| cubed\n",
      "------  -------  -----\n",
      "   1      1         1\n",
      "Do you like to continue: 'y' for yes and 'n' for no: y\n",
      "going back\n",
      "   2      4         8\n"
     ]
    },
    {
     "ename": "KeyboardInterrupt",
     "evalue": "Interrupted by user",
     "output_type": "error",
     "traceback": [
      "\u001b[0;31m---------------------------------------------------------------------------\u001b[0m",
      "\u001b[0;31mKeyboardInterrupt\u001b[0m                         Traceback (most recent call last)",
      "Cell \u001b[0;32mIn[85], line 13\u001b[0m\n\u001b[1;32m     10\u001b[0m cubed \u001b[38;5;241m=\u001b[39m user_input \u001b[38;5;241m*\u001b[39m\u001b[38;5;241m*\u001b[39m \u001b[38;5;241m3\u001b[39m\n\u001b[1;32m     11\u001b[0m \u001b[38;5;28mprint\u001b[39m(\u001b[38;5;124mf\u001b[39m\u001b[38;5;124m'\u001b[39m\u001b[38;5;124m   \u001b[39m\u001b[38;5;132;01m{\u001b[39;00muser_input\u001b[38;5;132;01m}\u001b[39;00m\u001b[38;5;124m      \u001b[39m\u001b[38;5;132;01m{\u001b[39;00msquared\u001b[38;5;132;01m}\u001b[39;00m\u001b[38;5;124m         \u001b[39m\u001b[38;5;132;01m{\u001b[39;00mcubed\u001b[38;5;132;01m}\u001b[39;00m\u001b[38;5;124m'\u001b[39m)            \n\u001b[0;32m---> 13\u001b[0m response_question \u001b[38;5;241m=\u001b[39m \u001b[38;5;28minput\u001b[39m(\u001b[38;5;124m\"\u001b[39m\u001b[38;5;124mDo you like to continue: \u001b[39m\u001b[38;5;124m'\u001b[39m\u001b[38;5;124my\u001b[39m\u001b[38;5;124m'\u001b[39m\u001b[38;5;124m for yes and \u001b[39m\u001b[38;5;124m'\u001b[39m\u001b[38;5;124mn\u001b[39m\u001b[38;5;124m'\u001b[39m\u001b[38;5;124m for no: \u001b[39m\u001b[38;5;124m\"\u001b[39m)\n\u001b[1;32m     14\u001b[0m \u001b[38;5;28;01mif\u001b[39;00m response_question\u001b[38;5;241m.\u001b[39mlower() \u001b[38;5;241m==\u001b[39m \u001b[38;5;124m'\u001b[39m\u001b[38;5;124my\u001b[39m\u001b[38;5;124m'\u001b[39m:\n\u001b[1;32m     15\u001b[0m     \u001b[38;5;28mprint\u001b[39m(\u001b[38;5;124m'\u001b[39m\u001b[38;5;124mgoing back\u001b[39m\u001b[38;5;124m'\u001b[39m) \n",
      "File \u001b[0;32m/opt/homebrew/anaconda3/lib/python3.11/site-packages/ipykernel/kernelbase.py:1202\u001b[0m, in \u001b[0;36mKernel.raw_input\u001b[0;34m(self, prompt)\u001b[0m\n\u001b[1;32m   1200\u001b[0m     msg \u001b[38;5;241m=\u001b[39m \u001b[38;5;124m\"\u001b[39m\u001b[38;5;124mraw_input was called, but this frontend does not support input requests.\u001b[39m\u001b[38;5;124m\"\u001b[39m\n\u001b[1;32m   1201\u001b[0m     \u001b[38;5;28;01mraise\u001b[39;00m StdinNotImplementedError(msg)\n\u001b[0;32m-> 1202\u001b[0m \u001b[38;5;28;01mreturn\u001b[39;00m \u001b[38;5;28mself\u001b[39m\u001b[38;5;241m.\u001b[39m_input_request(\n\u001b[1;32m   1203\u001b[0m     \u001b[38;5;28mstr\u001b[39m(prompt),\n\u001b[1;32m   1204\u001b[0m     \u001b[38;5;28mself\u001b[39m\u001b[38;5;241m.\u001b[39m_parent_ident[\u001b[38;5;124m\"\u001b[39m\u001b[38;5;124mshell\u001b[39m\u001b[38;5;124m\"\u001b[39m],\n\u001b[1;32m   1205\u001b[0m     \u001b[38;5;28mself\u001b[39m\u001b[38;5;241m.\u001b[39mget_parent(\u001b[38;5;124m\"\u001b[39m\u001b[38;5;124mshell\u001b[39m\u001b[38;5;124m\"\u001b[39m),\n\u001b[1;32m   1206\u001b[0m     password\u001b[38;5;241m=\u001b[39m\u001b[38;5;28;01mFalse\u001b[39;00m,\n\u001b[1;32m   1207\u001b[0m )\n",
      "File \u001b[0;32m/opt/homebrew/anaconda3/lib/python3.11/site-packages/ipykernel/kernelbase.py:1245\u001b[0m, in \u001b[0;36mKernel._input_request\u001b[0;34m(self, prompt, ident, parent, password)\u001b[0m\n\u001b[1;32m   1242\u001b[0m \u001b[38;5;28;01mexcept\u001b[39;00m \u001b[38;5;167;01mKeyboardInterrupt\u001b[39;00m:\n\u001b[1;32m   1243\u001b[0m     \u001b[38;5;66;03m# re-raise KeyboardInterrupt, to truncate traceback\u001b[39;00m\n\u001b[1;32m   1244\u001b[0m     msg \u001b[38;5;241m=\u001b[39m \u001b[38;5;124m\"\u001b[39m\u001b[38;5;124mInterrupted by user\u001b[39m\u001b[38;5;124m\"\u001b[39m\n\u001b[0;32m-> 1245\u001b[0m     \u001b[38;5;28;01mraise\u001b[39;00m \u001b[38;5;167;01mKeyboardInterrupt\u001b[39;00m(msg) \u001b[38;5;28;01mfrom\u001b[39;00m \u001b[38;5;28;01mNone\u001b[39;00m\n\u001b[1;32m   1246\u001b[0m \u001b[38;5;28;01mexcept\u001b[39;00m \u001b[38;5;167;01mException\u001b[39;00m:\n\u001b[1;32m   1247\u001b[0m     \u001b[38;5;28mself\u001b[39m\u001b[38;5;241m.\u001b[39mlog\u001b[38;5;241m.\u001b[39mwarning(\u001b[38;5;124m\"\u001b[39m\u001b[38;5;124mInvalid Message:\u001b[39m\u001b[38;5;124m\"\u001b[39m, exc_info\u001b[38;5;241m=\u001b[39m\u001b[38;5;28;01mTrue\u001b[39;00m)\n",
      "\u001b[0;31mKeyboardInterrupt\u001b[0m: Interrupted by user"
     ]
    }
   ],
   "source": [
    "while True:\n",
    "    user_input = int(input('What number would you like to go up to: '))\n",
    "\n",
    "    print(f'number| squared| cubed')\n",
    "    print(f'------  -------  -----')\n",
    "    \n",
    "    for user_input in range(1, user_input, 1):\n",
    "    \n",
    "        squared = user_input ** 2\n",
    "        cubed = user_input ** 3\n",
    "        print(f'   {user_input}      {squared}         {cubed}')            \n",
    "        \n",
    "        response_question = input(\"Do you like to continue: 'y' for yes and 'n' for no: \")\n",
    "        if response_question.lower() == 'y':\n",
    "            print('going back') \n",
    "\n",
    "        elif response_question.lower() == 'n':\n",
    "            print('ending program')\n",
    "    \n",
    "        else: \n",
    "            print('You have entered an invalid input')\n",
    "    break\n",
    "    \n",
    "    "
   ]
  },
  {
   "cell_type": "code",
   "execution_count": null,
   "id": "de6df370",
   "metadata": {},
   "outputs": [],
   "source": [
    "# 5. Convert given number grades into letter grades.\n",
    "\n",
    "# Prompt the user for a numerical grade from 0 to 100\n",
    "# Display the corresponding letter grade\n",
    "# Prompt the user to continue\n",
    "# Assume that the user will enter valid integers for the grades\n",
    "# The application should only continue if the user agrees to\n",
    "# Grade Ranges:\n",
    "\n",
    "# A : 100 - 88\n",
    "# B : 87 - 80\n",
    "# C : 79 - 67\n",
    "# D : 66 - 60\n",
    "# F : 59 - 0"
   ]
  },
  {
   "cell_type": "code",
   "execution_count": 94,
   "id": "b8d21ebc",
   "metadata": {},
   "outputs": [
    {
     "name": "stdout",
     "output_type": "stream",
     "text": [
      "Enter a grade number from 0 to 100: 55\n",
      "Your letter grade is:  F\n",
      "Do you like to continue: 'y' for yes and 'n' for no: y\n",
      "Enter a grade number from 0 to 100: 100\n",
      "Your letter grade is:  A\n",
      "Do you like to continue: 'y' for yes and 'n' for no: y\n",
      "Enter a grade number from 0 to 100: 89\n",
      "Your letter grade is:  B\n",
      "Do you like to continue: 'y' for yes and 'n' for no: n\n"
     ]
    }
   ],
   "source": [
    "while True:\n",
    "    user_input = int(input('Enter a grade number from 0 to 100: '))\n",
    "    comment = ('Your letter grade is: ')\n",
    "\n",
    "    if user_input >= 90:\n",
    "        print(comment, 'A')\n",
    "    elif user_input >= 80:\n",
    "        print(comment, 'B')\n",
    "    elif user_input >= 70:\n",
    "        print(comment, 'C')\n",
    "    elif user_input >= 60:\n",
    "        print(comment, 'D')\n",
    "    else: \n",
    "        print(comment, 'F')\n",
    "    \n",
    "    question_response = input(\"Do you like to continue: 'y' for yes and 'n' for no: \")\n",
    "    if question_response.lower() != 'y':\n",
    "        break\n",
    "            \n",
    "    "
   ]
  },
  {
   "cell_type": "code",
   "execution_count": 93,
   "id": "6ff3fc2f",
   "metadata": {},
   "outputs": [],
   "source": [
    "# 6. Create a list of dictionaries where each dictionary represents \n",
    "# a book that you have read. Each dictionary in the list should \n",
    "# have the keys title, author, and genre. Loop through the \n",
    "# list and print out information about each book.\n",
    "\n",
    "# Prompt the user to enter a genre, then loop through your books \n",
    "# list and print out the titles of all the books in that genre.\n"
   ]
  },
  {
   "cell_type": "code",
   "execution_count": 109,
   "id": "5b0c864a",
   "metadata": {},
   "outputs": [
    {
     "name": "stdout",
     "output_type": "stream",
     "text": [
      "{'Title': 'To Kill a Mockingbird', 'Author': 'Harper Lee', 'Genre': 'Fiction'}\n",
      "{'Title': '1984', 'Author': 'George Orwell', 'Genre': 'Dystopian, Political Fiction'}\n",
      "{'Title': 'The Great Gatsby', 'Author': 'F. Scott Fitzgerald', 'Genre': 'Fiction'}\n",
      "{'Title': 'Pride and Prejudice', 'Author': 'Jane Austen', 'Genre': 'Classic'}\n",
      "{'Title': 'The Catcher in the Rye', 'Author': 'J.D. Salinger', 'Genre': 'Fiction'}\n",
      "Enter a genre: classic\n"
     ]
    }
   ],
   "source": [
    "\n",
    "books = [{\"Title\": \"To Kill a Mockingbird\", \"Author\": \"Harper Lee\", \"Genre\": \"Fiction\"}, \n",
    "{\"Title\": \"1984\", \"Author\": \"George Orwell\", \"Genre\": \"Dystopian, Political Fiction\"},\n",
    "{\"Title\": \"The Great Gatsby\", \"Author\": \"F. Scott Fitzgerald\", \"Genre\": \"Fiction\"},\n",
    "{\"Title\": \"Pride and Prejudice\", \"Author\": \"Jane Austen\", \"Genre\": \"Classic\"},\n",
    "{\"Title\": \"The Catcher in the Rye\", \"Author\": \"J.D. Salinger\", \"Genre\": \"Fiction\"}\n",
    "]\n",
    "\n",
    "for book in books:\n",
    "    print(book)\n",
    "    \n",
    "books[3]\n",
    "\n",
    "genre_input = input('Enter a genre: ')\n",
    "for book in books:\n",
    "    if genre_input.lower() == book['Genre']:\n",
    "        print(book[\"Title\"])\n",
    "    else:\n",
    "        pass\n",
    "       \n"
   ]
  },
  {
   "cell_type": "code",
   "execution_count": 47,
   "id": "acf2c4ad",
   "metadata": {},
   "outputs": [
    {
     "name": "stdout",
     "output_type": "stream",
     "text": [
      "10\n",
      "9\n",
      "8\n",
      "7\n",
      "6\n",
      "5\n",
      "4\n",
      "3\n",
      "2\n"
     ]
    }
   ],
   "source": []
  },
  {
   "cell_type": "code",
   "execution_count": null,
   "id": "0c96a841",
   "metadata": {},
   "outputs": [],
   "source": []
  },
  {
   "cell_type": "code",
   "execution_count": null,
   "id": "ae7488c9",
   "metadata": {},
   "outputs": [],
   "source": []
  },
  {
   "cell_type": "code",
   "execution_count": null,
   "id": "4ef884f4",
   "metadata": {},
   "outputs": [],
   "source": []
  },
  {
   "cell_type": "code",
   "execution_count": null,
   "id": "6f8338cd",
   "metadata": {},
   "outputs": [],
   "source": []
  },
  {
   "cell_type": "code",
   "execution_count": null,
   "id": "975ff014",
   "metadata": {},
   "outputs": [],
   "source": []
  },
  {
   "cell_type": "code",
   "execution_count": null,
   "id": "9e0b196c",
   "metadata": {},
   "outputs": [],
   "source": []
  },
  {
   "cell_type": "code",
   "execution_count": null,
   "id": "24465fa2",
   "metadata": {},
   "outputs": [],
   "source": []
  },
  {
   "cell_type": "code",
   "execution_count": null,
   "id": "9dd245ef",
   "metadata": {},
   "outputs": [],
   "source": []
  }
 ],
 "metadata": {
  "kernelspec": {
   "display_name": "Python 3 (ipykernel)",
   "language": "python",
   "name": "python3"
  },
  "language_info": {
   "codemirror_mode": {
    "name": "ipython",
    "version": 3
   },
   "file_extension": ".py",
   "mimetype": "text/x-python",
   "name": "python",
   "nbconvert_exporter": "python",
   "pygments_lexer": "ipython3",
   "version": "3.11.5"
  }
 },
 "nbformat": 4,
 "nbformat_minor": 5
}
