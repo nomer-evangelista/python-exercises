{
 "cells": [
  {
   "cell_type": "code",
   "execution_count": null,
   "id": "36c2e3ad",
   "metadata": {},
   "outputs": [],
   "source": [
    "# 1. Define a function named is_two. It should accept one input \n",
    "# and return True if 1. the passed input is either the number \n",
    "# or the string 2, False otherwise."
   ]
  },
  {
   "cell_type": "code",
   "execution_count": 20,
   "id": "ef0d8b8b",
   "metadata": {},
   "outputs": [
    {
     "name": "stdout",
     "output_type": "stream",
     "text": [
      "Enter 1 or 2: 1\n",
      "True\n"
     ]
    },
    {
     "data": {
      "text/plain": [
       "1"
      ]
     },
     "execution_count": 20,
     "metadata": {},
     "output_type": "execute_result"
    }
   ],
   "source": [
    "def is_two():\n",
    "    x = int(input('Enter 1 or 2: '))\n",
    "    if x == 1:\n",
    "        print('True')\n",
    "    else: \n",
    "        print('False')\n",
    "    return x\n",
    "    \n",
    "    \n",
    "is_two()"
   ]
  },
  {
   "cell_type": "code",
   "execution_count": null,
   "id": "1458094e",
   "metadata": {},
   "outputs": [],
   "source": [
    "# 2. Define a function named is_vowel. It should return True \n",
    "# if the passed string is a vowel, False otherwise."
   ]
  },
  {
   "cell_type": "code",
   "execution_count": 55,
   "id": "780145dd",
   "metadata": {},
   "outputs": [
    {
     "name": "stdout",
     "output_type": "stream",
     "text": [
      "Enter a letter: v\n",
      "You entered v which is not a vowel\n"
     ]
    },
    {
     "data": {
      "text/plain": [
       "False"
      ]
     },
     "execution_count": 55,
     "metadata": {},
     "output_type": "execute_result"
    }
   ],
   "source": [
    "def is_vowel():\n",
    "    letter = str(input('Enter a letter: '))\n",
    "    if letter.lower() in ('a', 'e', 'i', 'o', 'u'):\n",
    "        print(f'You entered {letter} is a vowel')\n",
    "        return True\n",
    "    else: \n",
    "        print(f'You entered {letter} which is not a vowel')\n",
    "        return False\n",
    "    \n",
    "\n",
    "is_vowel()\n",
    "\n"
   ]
  },
  {
   "cell_type": "code",
   "execution_count": null,
   "id": "d553bbfc",
   "metadata": {},
   "outputs": [],
   "source": [
    "# 3. Define a function named is_consonant. It should return True if \n",
    "# the passed string is a consonant, False otherwise. \n",
    "# Use your is_vowel function to accomplish this."
   ]
  },
  {
   "cell_type": "code",
   "execution_count": 60,
   "id": "5c7670fb",
   "metadata": {},
   "outputs": [
    {
     "name": "stdout",
     "output_type": "stream",
     "text": [
      "Enter a letter: v\n",
      "You entered v which is consonant\n"
     ]
    },
    {
     "data": {
      "text/plain": [
       "True"
      ]
     },
     "execution_count": 60,
     "metadata": {},
     "output_type": "execute_result"
    }
   ],
   "source": [
    "def is_consonant():\n",
    "    letter = str(input('Enter a letter: '))\n",
    "    if letter.lower() in ('a', 'e', 'i', 'o', 'u'):\n",
    "        print(f'You entered {letter} is a vowel')\n",
    "        return False\n",
    "    else: \n",
    "        print(f'You entered {letter} which is consonant')\n",
    "        return True\n",
    "              \n",
    "is_consonant()"
   ]
  },
  {
   "cell_type": "code",
   "execution_count": null,
   "id": "9056a766",
   "metadata": {},
   "outputs": [],
   "source": [
    "# 4. Define a function that accepts a string that is a word. \n",
    "# The function should capitalize the first letter of the word \n",
    "# if the word starts with a consonant.\n"
   ]
  },
  {
   "cell_type": "code",
   "execution_count": 79,
   "id": "05da6d2b",
   "metadata": {},
   "outputs": [
    {
     "name": "stdout",
     "output_type": "stream",
     "text": [
      "Enter a word: word\n",
      "Word\n"
     ]
    }
   ],
   "source": [
    "def string_word():\n",
    "    word = str(input('Enter a word: '))\n",
    "    if word[0] in ('a', 'e', 'i', 'o', 'u') :\n",
    "        print(f'The {word} you enter does not start with a vowel')\n",
    "    else:\n",
    "        print(word.capitalize())\n",
    "      \n",
    "              \n",
    "string_word()"
   ]
  },
  {
   "cell_type": "code",
   "execution_count": null,
   "id": "9508c058",
   "metadata": {},
   "outputs": [],
   "source": [
    "# 5. Define a function named calculate_tip. It should accept a tip \n",
    "# percentage (a number between 0 and 1) and the bill total, \n",
    "# and return the amount to tip."
   ]
  },
  {
   "cell_type": "code",
   "execution_count": 45,
   "id": "06161cd9",
   "metadata": {},
   "outputs": [
    {
     "name": "stdout",
     "output_type": "stream",
     "text": [
      "Enter between 0 and 1 for tip amount1\n",
      "Enter your total bill: 120\n",
      "Your total bill with tip is: 121.2\n"
     ]
    }
   ],
   "source": [
    "def total_bill_with_tip():\n",
    "    tip_percentage = float(input('Enter between 0 and 1 for tip amount'))\n",
    "    total_bill = float(input('Enter your total bill: '))\n",
    "\n",
    "    tip_calculation = float((tip_percentage / 100) * total_bill) \n",
    "    bill_with_tip = tip_calculation + total_bill\n",
    "    print(f'Your total bill with tip is: {bill_with_tip}')\n",
    " \n",
    "total_bill_with_tip()   \n"
   ]
  },
  {
   "cell_type": "code",
   "execution_count": null,
   "id": "6c2a5eac",
   "metadata": {},
   "outputs": [],
   "source": [
    "# 6. Define a function named apply_discount. It should accept a original \n",
    "# price, and a discount percentage, and return the price after \n",
    "# the discount is applied."
   ]
  },
  {
   "cell_type": "code",
   "execution_count": 49,
   "id": "27fb80cc",
   "metadata": {},
   "outputs": [
    {
     "name": "stdout",
     "output_type": "stream",
     "text": [
      "Enter a price: 10\n",
      "Enter a percentage discount: 5\n",
      "Your final price minus discount is: 9.5\n"
     ]
    }
   ],
   "source": [
    "def apply_discount():\n",
    "    price = float(input('Enter a price: '))\n",
    "    discount = float(input('Enter a percentage discount: '))\n",
    "    discount_amount = float((discount / 100) * price)\n",
    "    price_minus_discount = price - discount_amount\n",
    "    print(f'Your final price minus discount is: {price_minus_discount}')\n",
    "    \n",
    "apply_discount()"
   ]
  },
  {
   "cell_type": "code",
   "execution_count": null,
   "id": "bf0e0db0",
   "metadata": {},
   "outputs": [],
   "source": [
    "# 7. Define a function named handle_commas. It should accept a string \n",
    "# that is a number that contains commas in it as input, and return \n",
    "# a number as output.\n"
   ]
  },
  {
   "cell_type": "code",
   "execution_count": 59,
   "id": "0b078dbe",
   "metadata": {},
   "outputs": [
    {
     "name": "stdout",
     "output_type": "stream",
     "text": [
      "Enter numbers separating a comma: 4, 5, 6, 7\n",
      "Your numbers are without comma:  4 5 6 7\n"
     ]
    },
    {
     "data": {
      "text/plain": [
       "'4 5 6 7'"
      ]
     },
     "execution_count": 59,
     "metadata": {},
     "output_type": "execute_result"
    }
   ],
   "source": [
    "def handle_commas():\n",
    "    new_string = input('Enter numbers separating a comma: ')\n",
    "    new_string = new_string.replace(',', '')\n",
    "    print('Your numbers are without comma: ', new_string)\n",
    "    return new_string\n",
    "\n",
    "handle_commas()\n"
   ]
  },
  {
   "cell_type": "code",
   "execution_count": null,
   "id": "39dd3856",
   "metadata": {},
   "outputs": [],
   "source": [
    "# 8. Define a function named get_letter_grade. It should accept a \n",
    "# number and return the letter grade associated with that number (A-F)."
   ]
  },
  {
   "cell_type": "code",
   "execution_count": 78,
   "id": "386efe96",
   "metadata": {},
   "outputs": [
    {
     "name": "stdout",
     "output_type": "stream",
     "text": [
      "Enter a number score grade: 75\n",
      "Your letter grade is: C\n"
     ]
    }
   ],
   "source": [
    "def get_letter_grade():\n",
    "    letter_grade = int(input('Enter a number score grade: '))\n",
    "    if letter_grade >= 90:\n",
    "        print('Your letter grade is: A')\n",
    "    elif letter_grade >= 80:\n",
    "         print('Your letter grade is: B')\n",
    "    elif letter_grade >= 70:\n",
    "         print('Your letter grade is: C')\n",
    "    elif letter_grade >= 60:\n",
    "         print('Your letter grade is: D')\n",
    "    else:\n",
    "        print('Your letter grade is: F')\n",
    "    return letter_grade\n",
    "\n",
    "get_letter_grade()\n",
    "    "
   ]
  },
  {
   "cell_type": "code",
   "execution_count": null,
   "id": "c42c0baa",
   "metadata": {},
   "outputs": [],
   "source": [
    "9. Define a function named remove_vowels that accepts a string \n",
    "and returns a string with all the vowels removed."
   ]
  },
  {
   "cell_type": "code",
   "execution_count": 89,
   "id": "c1f900a7",
   "metadata": {},
   "outputs": [
    {
     "name": "stdout",
     "output_type": "stream",
     "text": [
      "Enter a group of words: Group of Words\n",
      "Grp f Wrds\n"
     ]
    },
    {
     "data": {
      "text/plain": [
       "'Grp f Wrds'"
      ]
     },
     "execution_count": 89,
     "metadata": {},
     "output_type": "execute_result"
    }
   ],
   "source": [
    "def remove_vowel():\n",
    "    word = str(input('Enter a group of words: '))\n",
    "    vowels = ('a','e','i','o','u')\n",
    "    for x in word.lower():\n",
    "            if x in vowels:\n",
    "                  word = word.replace(x, '')\n",
    "    print(word)\n",
    "    return word\n",
    "              \n",
    "remove_vowel()\n",
    "              "
   ]
  },
  {
   "cell_type": "code",
   "execution_count": null,
   "id": "428947cd",
   "metadata": {},
   "outputs": [],
   "source": [
    "# 10. Define a function named normalize_name. It should accept a string \n",
    "# and return a valid python identifier, that is:\n",
    "# anything that is not a valid python identifier should be removed\n",
    "# leading and trailing whitespace should be removed\n",
    "# everything should be lowercase\n",
    "# spaces should be replaced with underscores\n",
    "# for example:\n",
    "# Name will become name\n",
    "# First Name will become first_name\n",
    "# % Completed will become completed"
   ]
  },
  {
   "cell_type": "code",
   "execution_count": 137,
   "id": "b77df58f",
   "metadata": {},
   "outputs": [
    {
     "ename": "TypeError",
     "evalue": "normalize_name() takes 0 positional arguments but 1 was given",
     "output_type": "error",
     "traceback": [
      "\u001b[0;31m---------------------------------------------------------------------------\u001b[0m",
      "\u001b[0;31mTypeError\u001b[0m                                 Traceback (most recent call last)",
      "Cell \u001b[0;32mIn[137], line 12\u001b[0m\n\u001b[1;32m      9\u001b[0m     \u001b[38;5;28mprint\u001b[39m(word)\n\u001b[1;32m     11\u001b[0m example_1 \u001b[38;5;241m=\u001b[39m \u001b[38;5;124m'\u001b[39m\u001b[38;5;124mName\u001b[39m\u001b[38;5;124m'\u001b[39m\n\u001b[0;32m---> 12\u001b[0m result_1 \u001b[38;5;241m=\u001b[39m normalize_name(example_1)\n\u001b[1;32m     14\u001b[0m example_2 \u001b[38;5;241m=\u001b[39m \u001b[38;5;124m'\u001b[39m\u001b[38;5;124mFull Name\u001b[39m\u001b[38;5;124m'\u001b[39m\n\u001b[1;32m     15\u001b[0m result_2 \u001b[38;5;241m=\u001b[39m normalize_name(example_2)\n",
      "\u001b[0;31mTypeError\u001b[0m: normalize_name() takes 0 positional arguments but 1 was given"
     ]
    }
   ],
   "source": [
    "import re\n",
    "\n",
    "def normalize_name():\n",
    "    word = word.strip().lower()\n",
    "    word = word.replace(' ', '_')\n",
    "    \n",
    "    word = re.sub(r'[^a-zA-Z0-9] +\\s', '',word)\n",
    "    \n",
    "    print(word)\n",
    "    \n",
    "example_1 = 'Name'\n",
    "result_1 = normalize_name(example_1)\n",
    "\n",
    "example_2 = 'Full Name'\n",
    "result_2 = normalize_name(example_2)\n",
    "\n",
    "example_3 = '% Completed'\n",
    "result_3 = normalize_name(example_3)\n",
    "\n",
    "print(result_1)\n",
    "# print(result_2)\n",
    "# print(result_3)\n",
    "                            "
   ]
  },
  {
   "cell_type": "code",
   "execution_count": null,
   "id": "3f20d3f8",
   "metadata": {},
   "outputs": [],
   "source": [
    "# 11. Write a function named cumulative_sum that accepts a list of \n",
    "# numbers and returns a list that is the cumulative sum of the \n",
    "# numbers in the list.\n",
    "# cumulative_sum([1, 1, 1]) returns [1, 2, 3]\n",
    "# cumulative_sum([1, 2, 3, 4]) returns [1, 3, 6, 10]"
   ]
  },
  {
   "cell_type": "code",
   "execution_count": 134,
   "id": "f7791d7e",
   "metadata": {},
   "outputs": [
    {
     "name": "stdout",
     "output_type": "stream",
     "text": [
      "The sum of [1, 2, 3] cumulatively is: [1, 3, 6]\n",
      "The sum of [1, 2, 3, 4] cumulatively is: [1, 3, 6, 10]\n"
     ]
    }
   ],
   "source": [
    "def cumulative_sum(numbers):\n",
    "\n",
    "    cumulative = [numbers[0]]\n",
    "    for i in range(1, len(numbers)):\n",
    "        cumulative.append(cumulative[i - 1] + numbers[i])\n",
    "    return cumulative\n",
    "\n",
    "result_1 = cumulative_sum([1, 2, 3])\n",
    "result_2 = cumulative_sum([1, 2, 3, 4])\n",
    "\n",
    "print(f'The sum of [1, 2, 3] cumulatively is: {result_1}')\n",
    "print(f'The sum of [1, 2, 3, 4] cumulatively is: {result_2}')"
   ]
  },
  {
   "cell_type": "code",
   "execution_count": null,
   "id": "1e552d95",
   "metadata": {},
   "outputs": [],
   "source": []
  },
  {
   "cell_type": "code",
   "execution_count": null,
   "id": "07d7a9d5",
   "metadata": {},
   "outputs": [],
   "source": []
  },
  {
   "cell_type": "code",
   "execution_count": null,
   "id": "67ed024b",
   "metadata": {},
   "outputs": [],
   "source": []
  },
  {
   "cell_type": "code",
   "execution_count": null,
   "id": "30cb9c5b",
   "metadata": {},
   "outputs": [],
   "source": []
  },
  {
   "cell_type": "code",
   "execution_count": null,
   "id": "da52ff7e",
   "metadata": {},
   "outputs": [],
   "source": []
  },
  {
   "cell_type": "code",
   "execution_count": null,
   "id": "e9321545",
   "metadata": {},
   "outputs": [],
   "source": []
  },
  {
   "cell_type": "code",
   "execution_count": null,
   "id": "6dba7d44",
   "metadata": {},
   "outputs": [],
   "source": []
  },
  {
   "cell_type": "code",
   "execution_count": null,
   "id": "2a7c955c",
   "metadata": {},
   "outputs": [],
   "source": []
  },
  {
   "cell_type": "code",
   "execution_count": null,
   "id": "6eb9c880",
   "metadata": {},
   "outputs": [],
   "source": []
  },
  {
   "cell_type": "code",
   "execution_count": null,
   "id": "f025f65b",
   "metadata": {},
   "outputs": [],
   "source": []
  },
  {
   "cell_type": "code",
   "execution_count": null,
   "id": "6104e1be",
   "metadata": {},
   "outputs": [],
   "source": []
  },
  {
   "cell_type": "code",
   "execution_count": null,
   "id": "0c1c894a",
   "metadata": {},
   "outputs": [],
   "source": []
  }
 ],
 "metadata": {
  "kernelspec": {
   "display_name": "Python 3 (ipykernel)",
   "language": "python",
   "name": "python3"
  },
  "language_info": {
   "codemirror_mode": {
    "name": "ipython",
    "version": 3
   },
   "file_extension": ".py",
   "mimetype": "text/x-python",
   "name": "python",
   "nbconvert_exporter": "python",
   "pygments_lexer": "ipython3",
   "version": "3.11.5"
  }
 },
 "nbformat": 4,
 "nbformat_minor": 5
}
